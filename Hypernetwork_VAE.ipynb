{
  "cells": [
    {
      "cell_type": "code",
      "execution_count": null,
      "metadata": {},
      "outputs": [],
      "source": [
        "!pip install pytorch-msssim"
      ]
    },
    {
      "cell_type": "code",
      "execution_count": null,
      "metadata": {
        "id": "4lmBSqI92MYI"
      },
      "outputs": [],
      "source": [
        "import matplotlib.pyplot as plt\n",
        "import torch\n",
        "import torch.nn as nn\n",
        "import torch.nn.functional as F\n",
        "from torch.utils.data import DataLoader\n",
        "from torchvision import datasets, transforms\n",
        "from torchvision.utils import make_grid\n",
        "from pytorch_msssim import ssim\n",
        "import math\n",
        "import pickle"
      ]
    },
    {
      "cell_type": "code",
      "execution_count": null,
      "metadata": {
        "id": "zbeW-VVY2dtb"
      },
      "outputs": [],
      "source": [
        "def get_coord_grid(H, W):\n",
        "    \"\"\"\n",
        "    Returns a tensor of shape (H*W, 2) with normalized (x, y) coordinates\n",
        "    in the range [-1, 1].\n",
        "    \"\"\"\n",
        "    y = torch.linspace(-1, 1, steps=H)\n",
        "    x = torch.linspace(-1, 1, steps=W)\n",
        "    yy, xx = torch.meshgrid(y, x, indexing=\"ij\")\n",
        "    coords = torch.stack([xx, yy], dim=-1)  # (H, W, 2)\n",
        "    coords = coords.reshape(-1, 2)          # (H*W, 2)\n",
        "    return coords\n",
        "\n",
        "# MNIST data\n",
        "transform = transforms.Compose([\n",
        "    transforms.ToTensor(),  # (H,W) in [0,1]\n",
        "])\n",
        "train_data = datasets.MNIST(root=\"./data\", train=True, download=True, transform=transform)\n",
        "train_loader = DataLoader(train_data, batch_size=8, shuffle=True)\n",
        "\n",
        "# Define target image\n",
        "H, W = 28, 28\n",
        "coords = get_coord_grid(H, W)"
      ]
    },
    {
      "cell_type": "code",
      "execution_count": null,
      "metadata": {
        "id": "CEEDExKl2Myq"
      },
      "outputs": [],
      "source": [
        "# --------------------------\n",
        "# RuleNet\n",
        "# --------------------------\n",
        "class RuleNet(nn.Module):\n",
        "    def __init__(self, hidden_dim=16):\n",
        "        super().__init__()\n",
        "        self.hidden_dim = hidden_dim\n",
        "\n",
        "    def forward(self, x, weights):\n",
        "        \"\"\"\n",
        "        coords: (B, N, 2)\n",
        "        weights: list of [W1, b1, W2, b2, W3, b3]\n",
        "        \"\"\"\n",
        "        W1, b1, W2, b2, W3, b3 = weights\n",
        "\n",
        "        h1 = torch.bmm(x, W1.transpose(1,2)) + b1\n",
        "        h1 = torch.sin(h1)\n",
        "\n",
        "        # Layer 2: (B, N, 16)\n",
        "        h2 = torch.bmm(h1, W2.transpose(1,2)) + b2\n",
        "        h2 = torch.sin(h2)\n",
        "\n",
        "        # Layer 3: (B, N, 1)\n",
        "        out = torch.bmm(h2, W3.transpose(1,2)) + b3\n",
        "        out = torch.sigmoid(out)\n",
        "        return out  # (B, N, 1)\n",
        "\n",
        "\n",
        "# --------------------------\n",
        "# HyperNet (VAE)\n",
        "# --------------------------\n",
        "class HyperNetVAE(nn.Module):\n",
        "    def __init__(self, img_dim=28*28, hidden_dim=256, latent_dim=64, rule_dims=[(8,16),(16,16),(16,1)]):\n",
        "        super().__init__()\n",
        "        self.img_dim = img_dim\n",
        "        self.latent_dim = latent_dim\n",
        "        self.rule_dims = rule_dims\n",
        "\n",
        "        # Encoder\n",
        "        self.C1 = nn.Conv2d(1, 16, 4, 2, 1)\n",
        "        self.C_mu = nn.Conv2d(16, latent_dim, 4, 2, 1)\n",
        "        self.C_logvar = nn.Conv2d(16, latent_dim, 4, 2, 1)\n",
        "\n",
        "        # Decoder (maps z → all RuleNet weights flattened)\n",
        "        total_weights = sum(in_d*out_d + out_d for in_d, out_d in rule_dims)\n",
        "        self.dec_fc1 = nn.Linear(latent_dim, hidden_dim)\n",
        "        self.dec_fc2 = nn.Linear(hidden_dim, total_weights)\n",
        "\n",
        "    def encode(self, x):\n",
        "        h = torch.relu(self.C1(x))\n",
        "        mu = self.C_mu(h).sum(dim=(2, 3))\n",
        "        logvar = self.C_logvar(h).sum(dim=(2, 3))\n",
        "        return mu, logvar\n",
        "\n",
        "    def reparameterize(self, mu, logvar):\n",
        "        std = torch.exp(0.5 * logvar)\n",
        "        eps = torch.randn_like(std)\n",
        "        return mu + eps * std\n",
        "\n",
        "    def decode(self, z):\n",
        "        h = torch.relu(self.dec_fc1(z))\n",
        "        flat_weights = self.dec_fc2(h)\n",
        "\n",
        "        # Split into RuleNet weight matrices/biases\n",
        "        weights = []\n",
        "        idx = 0\n",
        "        for in_d, out_d in self.rule_dims:\n",
        "            W_size = in_d * out_d\n",
        "            b_size = out_d\n",
        "\n",
        "            W = flat_weights[:, idx:idx+W_size].view(-1, out_d, in_d)\n",
        "            idx += W_size\n",
        "            b = flat_weights[:, idx:idx+b_size].view(-1, 1, out_d)\n",
        "            idx += b_size\n",
        "\n",
        "            weights.extend([W.squeeze(0), b.squeeze(0)])\n",
        "\n",
        "        return weights\n",
        "\n",
        "    def forward(self, imgs):\n",
        "        \"\"\"\n",
        "        imgs: (batch, 1, 28, 28)\n",
        "        \"\"\"\n",
        "        mu, logvar = self.encode(imgs)\n",
        "        z = self.reparameterize(mu, logvar)\n",
        "        weights = self.decode(z)\n",
        "        return weights, mu, logvar\n",
        "\n",
        "\n",
        "# --------------------------\n",
        "# Training Loop (sketch)\n",
        "# --------------------------\n",
        "def vae_loss(recon_img, orig_img, mu, logvar):\n",
        "    recon_loss = F.mse_loss(recon_img, orig_img, reduction=\"sum\") + (1 - ssim(recon_img, orig_img, data_range=1, size_average=True))\n",
        "    kl = -0.5 * torch.sum(1 + logvar - mu.pow(2) - logvar.exp())\n",
        "    return recon_loss + kl"
      ]
    },
    {
      "cell_type": "code",
      "execution_count": null,
      "metadata": {
        "colab": {
          "base_uri": "https://localhost:8080/",
          "height": 1000
        },
        "id": "RabOH9_y3cDj",
        "outputId": "3479a98f-84a9-43f6-e13f-2172d93be1b8"
      },
      "outputs": [
        {
          "name": "stderr",
          "output_type": "stream",
          "text": [
            "WARNING:matplotlib.image:Clipping input data to the valid range for imshow with RGB data ([0..1] for floats or [0..255] for integers). Got range [-28.177298..31.044992].\n"
          ]
        },
        {
          "name": "stdout",
          "output_type": "stream",
          "text": [
            "Epoch: 0/5 Iteration 0 Loss:325765.2188\n"
          ]
        },
        {
          "data": {
            "image/png": "[encoded data removed]",
            "text/plain": [
              "<Figure size 640x480 with 1 Axes>"
            ]
          },
          "metadata": {},
          "output_type": "display_data"
        },
        {
          "name": "stderr",
          "output_type": "stream",
          "text": [
            "WARNING:matplotlib.image:Clipping input data to the valid range for imshow with RGB data ([0..1] for floats or [0..255] for integers). Got range [-0.4536208..0.78218865].\n"
          ]
        },
        {
          "name": "stdout",
          "output_type": "stream",
          "text": [
            "Epoch: 0/5 Iteration 1000 Loss:723.3484\n"
          ]
        },
        {
          "data": {
            "image/png": "[encoded data removed]",
            "text/plain": [
              "<Figure size 640x480 with 1 Axes>"
            ]
          },
          "metadata": {},
          "output_type": "display_data"
        },
        {
          "name": "stderr",
          "output_type": "stream",
          "text": [
            "WARNING:matplotlib.image:Clipping input data to the valid range for imshow with RGB data ([0..1] for floats or [0..255] for integers). Got range [-0.44725132..0.47907627].\n"
          ]
        },
        {
          "name": "stdout",
          "output_type": "stream",
          "text": [
            "Epoch: 0/5 Iteration 2000 Loss:556.3368\n"
          ]
        },
        {
          "data": {
            "image/png": "[encoded data removed]",
            "text/plain": [
              "<Figure size 640x480 with 1 Axes>"
            ]
          },
          "metadata": {},
          "output_type": "display_data"
        },
        {
          "name": "stderr",
          "output_type": "stream",
          "text": [
            "WARNING:matplotlib.image:Clipping input data to the valid range for imshow with RGB data ([0..1] for floats or [0..255] for integers). Got range [-0.35903707..0.7346373].\n"
          ]
        },
        {
          "name": "stdout",
          "output_type": "stream",
          "text": [
            "Epoch: 0/5 Iteration 3000 Loss:527.2596\n"
          ]
        },
        {
          "data": {
            "image/png": "[encoded data removed]",
            "text/plain": [
              "<Figure size 640x480 with 1 Axes>"
            ]
          },
          "metadata": {},
          "output_type": "display_data"
        },
        {
          "name": "stderr",
          "output_type": "stream",
          "text": [
            "WARNING:matplotlib.image:Clipping input data to the valid range for imshow with RGB data ([0..1] for floats or [0..255] for integers). Got range [-0.30737185..0.6587224].\n"
          ]
        },
        {
          "name": "stdout",
          "output_type": "stream",
          "text": [
            "Epoch: 0/5 Iteration 4000 Loss:513.2662\n"
          ]
        },
        {
          "data": {
            "image/png": "[encoded data removed]",
            "text/plain": [
              "<Figure size 640x480 with 1 Axes>"
            ]
          },
          "metadata": {},
          "output_type": "display_data"
        }
      ],
      "source": [
        "hypernet = HyperNetVAE()\n",
        "rulenet = RuleNet()\n",
        "\n",
        "optimizer = torch.optim.Adam(hypernet.parameters(), lr=1e-3)\n",
        "epochs = 5\n",
        "\n",
        "B = torch.randn(4, 2)\n",
        "x_proj = 2 * torch.pi * coords @ B.T\n",
        "x_proj = torch.cat([torch.sin(x_proj), torch.cos(x_proj)], dim=-1)\n",
        "\n",
        "for epoch in range(epochs):\n",
        "    for k, (imgs, _) in enumerate(train_loader):\n",
        "        # Flatten images for encoder\n",
        "        # HyperNet → weights\n",
        "        weights, mu, logvar = hypernet(imgs)\n",
        "        #coords_ = coords.view(1, -1, 2).repeat(imgs.shape[0], 1, 1)\n",
        "        x_proj_ = x_proj.view(1, 784, 8).repeat(imgs.shape[0], 1, 1)\n",
        "\n",
        "        # RuleNet forward\n",
        "        recon_flat = rulenet(x_proj_, weights)  # (batch, N, 1)\n",
        "        recon_img = recon_flat.view(-1, 1, 28, 28)\n",
        "\n",
        "        loss = vae_loss(recon_img, imgs, mu, logvar)\n",
        "        optimizer.zero_grad()\n",
        "        loss.backward()\n",
        "        optimizer.step()\n",
        "\n",
        "        if k % 1000 == 0:\n",
        "          print(f\"Epoch: {epoch}/{epochs} Iteration {k} Loss:{round(loss.item(), 4)}\")\n",
        "\n",
        "          grid = make_grid(recon_img, nrow=4)\n",
        "          grid = grid.numpy().transpose(1, 2, 0)\n",
        "          plt.imshow(grid)\n",
        "          plt.axis('off')\n",
        "          plt.show()"
      ]
    }
  ],
  "metadata": {
    "colab": {
      "provenance": []
    },
    "kernelspec": {
      "display_name": "Python 3",
      "name": "python3"
    },
    "language_info": {
      "name": "python"
    }
  },
  "nbformat": 4,
  "nbformat_minor": 0
}
