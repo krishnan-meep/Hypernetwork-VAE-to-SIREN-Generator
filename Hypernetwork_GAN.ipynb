{
  "nbformat": 4,
  "nbformat_minor": 0,
  "metadata": {
    "colab": {
      "provenance": []
    },
    "kernelspec": {
      "name": "python3",
      "display_name": "Python 3"
    },
    "language_info": {
      "name": "python"
    }
  },
  "cells": [
    {
      "cell_type": "code",
      "execution_count": 1,
      "metadata": {
        "id": "HmZ3MTNxi76T"
      },
      "outputs": [],
      "source": [
        "import matplotlib.pyplot as plt\n",
        "import torch\n",
        "import torch.nn as nn\n",
        "import torch.nn.functional as F\n",
        "from torch.utils.data import DataLoader\n",
        "from torchvision import datasets, transforms\n",
        "from torchvision.utils import make_grid\n",
        "import math\n",
        "import pickle"
      ]
    },
    {
      "cell_type": "code",
      "source": [
        "def get_coord_grid(H, W):\n",
        "    \"\"\"\n",
        "    Returns a tensor of shape (H*W, 2) with normalized (x, y) coordinates\n",
        "    in the range [-1, 1].\n",
        "    \"\"\"\n",
        "    y = torch.linspace(-1, 1, steps=H)\n",
        "    x = torch.linspace(-1, 1, steps=W)\n",
        "    yy, xx = torch.meshgrid(y, x, indexing=\"ij\")\n",
        "    coords = torch.stack([xx, yy], dim=-1)  # (H, W, 2)\n",
        "    coords = coords.reshape(-1, 2)          # (H*W, 2)\n",
        "    return coords\n",
        "\n",
        "# MNIST data\n",
        "transform = transforms.Compose([\n",
        "    transforms.ToTensor(),  # (H,W) in [0,1]\n",
        "])\n",
        "train_data = datasets.MNIST(root=\"./data\", train=True, download=True, transform=transform)\n",
        "train_loader = DataLoader(train_data, batch_size=8, shuffle=True)\n",
        "\n",
        "# Define target image\n",
        "H, W = 28, 28\n",
        "coords = get_coord_grid(H, W)"
      ],
      "metadata": {
        "id": "vlmnx_yPi9hR"
      },
      "execution_count": 2,
      "outputs": []
    },
    {
      "cell_type": "code",
      "source": [
        "# --------------------------\n",
        "# RuleNet\n",
        "# --------------------------\n",
        "class RuleNet(nn.Module):\n",
        "    def __init__(self, hidden_dim=16):\n",
        "        super().__init__()\n",
        "        self.hidden_dim = hidden_dim\n",
        "\n",
        "    def forward(self, x, weights):\n",
        "        \"\"\"\n",
        "        coords: (B, N, 2)\n",
        "        weights: list of [W1, b1, W2, b2, W3, b3]\n",
        "        \"\"\"\n",
        "        W1, b1, W2, b2, W3, b3 = weights\n",
        "\n",
        "        h1 = torch.bmm(x, W1.transpose(1,2)) + b1\n",
        "        h1 = torch.sin(h1)\n",
        "\n",
        "        # Layer 2: (B, N, 16)\n",
        "        h2 = torch.bmm(h1, W2.transpose(1,2)) + b2\n",
        "        h2 = torch.sin(h2)\n",
        "\n",
        "        # Layer 3: (B, N, 1)\n",
        "        out = torch.bmm(h2, W3.transpose(1,2)) + b3\n",
        "        out = torch.sigmoid(out)\n",
        "        return out  # (B, N, 1)\n",
        "\n",
        "\n",
        "# --------------------------\n",
        "# HyperNet (Generator)\n",
        "# --------------------------\n",
        "class HyperNetGen(nn.Module):\n",
        "    def __init__(self, hidden_dim=256, latent_dim=64, rule_dims=[(8,16),(16,16),(16,1)]):\n",
        "        super().__init__()\n",
        "        self.latent_dim = latent_dim\n",
        "        self.rule_dims = rule_dims\n",
        "\n",
        "        # Decoder (maps z → all RuleNet weights flattened)\n",
        "        total_weights = sum(in_d*out_d + out_d for in_d, out_d in rule_dims)\n",
        "        self.dec_fc1 = nn.Linear(latent_dim, hidden_dim)\n",
        "        self.dec_fc2 = nn.Linear(hidden_dim, total_weights)\n",
        "\n",
        "    def decode(self, z):\n",
        "        h = torch.relu(self.dec_fc1(z))\n",
        "        flat_weights = self.dec_fc2(h)\n",
        "\n",
        "        # Split into RuleNet weight matrices/biases\n",
        "        weights = []\n",
        "        idx = 0\n",
        "        for in_d, out_d in self.rule_dims:\n",
        "            W_size = in_d * out_d\n",
        "            b_size = out_d\n",
        "\n",
        "            W = flat_weights[:, idx:idx+W_size].view(-1, out_d, in_d)\n",
        "            idx += W_size\n",
        "            b = flat_weights[:, idx:idx+b_size].view(-1, 1, out_d)\n",
        "            idx += b_size\n",
        "\n",
        "            weights.extend([W.squeeze(0), b.squeeze(0)])\n",
        "\n",
        "        return weights\n",
        "\n",
        "    def forward(self, z):\n",
        "        \"\"\"\n",
        "        imgs: (batch, 1, 28, 28)\n",
        "        \"\"\"\n",
        "        weights = self.decode(z)\n",
        "        return weights\n",
        "\n",
        "# --------------------------\n",
        "# Discriminator\n",
        "# --------------------------\n",
        "class Discriminator(nn.Module):\n",
        "    def __init__(self, img_channels=1):\n",
        "        super().__init__()\n",
        "        self.C1 = nn.utils.spectral_norm(nn.Conv2d(img_channels, 16, 4, 2, 1))\n",
        "        self.C2 = nn.utils.spectral_norm(nn.Conv2d(16, 32, 4, 2, 1))\n",
        "        self.C3 = nn.utils.spectral_norm(nn.Conv2d(32 + 1, 32, 3, 1, 1))\n",
        "        self.D1 = nn.Linear(32*7*7, 1)\n",
        "\n",
        "    def forward(self, x):\n",
        "        x = F.leaky_relu(self.C1(x))\n",
        "        x = F.leaky_relu(self.C2(x))\n",
        "\n",
        "        std = torch.std(x, dim=0, keepdim=True)  # across batch\n",
        "        mean_std = std.mean().expand(x.size(0), 1, x.size(2), x.size(3))\n",
        "        x = torch.cat([x, mean_std], dim=1)\n",
        "\n",
        "        x = F.leaky_relu(self.C3(x)).view(x.shape[0], 32*7*7)\n",
        "        x = self.D1(x)\n",
        "        return x"
      ],
      "metadata": {
        "id": "TflC5soujAFZ"
      },
      "execution_count": 8,
      "outputs": []
    },
    {
      "cell_type": "code",
      "source": [
        "hypernetG = HyperNetGen()\n",
        "netD = Discriminator()\n",
        "rulenet = RuleNet()\n",
        "\n",
        "optG = torch.optim.Adam(hypernetG.parameters(), lr=1e-3)\n",
        "optD = torch.optim.Adam(netD.parameters(), lr=2e-3)\n",
        "epochs = 5\n",
        "\n",
        "B = torch.randn(4, 2)\n",
        "x_proj = 2 * torch.pi * coords @ B.T\n",
        "x_proj = torch.cat([torch.sin(x_proj), torch.cos(x_proj)], dim=-1)\n",
        "\n",
        "for epoch in range(epochs):\n",
        "    for k, (imgs, _) in enumerate(train_loader):\n",
        "        #coords_ = coords.view(1, -1, 2).repeat(imgs.shape[0], 1, 1)\n",
        "        x_proj_ = x_proj.view(1, 784, 8).repeat(imgs.shape[0], 1, 1)\n",
        "        x_proj_ += 0.01*torch.randn_like(x_proj_)\n",
        "\n",
        "        # HyperNet → weights\n",
        "        z = torch.randn(imgs.shape[0], 64)\n",
        "        weights = hypernetG(z)\n",
        "        # RuleNet forward\n",
        "        out_flat = rulenet(x_proj_, weights)  # (batch, N, 1)\n",
        "        out_img = out_flat.view(-1, 1, 28, 28)\n",
        "\n",
        "\n",
        "        # ----------------------\n",
        "        # Adversarial training\n",
        "        # ----------------------\n",
        "        # Discriminator step\n",
        "        d_real = netD(imgs)\n",
        "        d_fake = netD(out_img.detach())\n",
        "        d_loss = torch.mean(F.relu(1.0 - d_real)) + torch.mean(F.relu(1.0 + d_fake))\n",
        "\n",
        "        optD.zero_grad()\n",
        "        d_loss.backward()\n",
        "        optD.step()\n",
        "\n",
        "        # Generator (encoder) step: fool discriminator\n",
        "        d_fake = netD(out_img)\n",
        "        g_loss = -torch.mean(d_fake)\n",
        "\n",
        "        optG.zero_grad()\n",
        "        g_loss.backward()\n",
        "        optG.step()\n",
        "\n",
        "        if k % 1000 == 0:\n",
        "          print(f\"Epoch: {epoch}/{epochs} Iteration {k} Loss:{round(g_loss.item(), 4)}\")\n",
        "\n",
        "          grid = make_grid(out_img, nrow=4)\n",
        "          grid = grid.numpy().transpose(1, 2, 0)\n",
        "          plt.imshow(grid)\n",
        "          plt.axis('off')\n",
        "          plt.show()\n",
        "\n"
      ],
      "metadata": {
        "colab": {
          "base_uri": "https://localhost:8080/",
          "height": 1000
        },
        "id": "JA_Y0j6AjcTy",
        "outputId": "6f7d36c2-acca-47cf-9715-01d92dc55a9d"
      },
      "execution_count": null,
      "outputs": [
        {
          "output_type": "stream",
          "name": "stdout",
          "text": [
            "Epoch: 0/5 Iteration 0 Loss:0.0353\n"
          ]
        },
        {
          "output_type": "display_data",
          "data": {
            "text/plain": [
              "<Figure size 640x480 with 1 Axes>"
            ],
            "image/png": "[encoded data removed]"
          },
          "metadata": {}
        },
        {
          "output_type": "stream",
          "name": "stdout",
          "text": [
            "Epoch: 0/5 Iteration 1000 Loss:0.9471\n"
          ]
        },
        {
          "output_type": "display_data",
          "data": {
            "text/plain": [
              "<Figure size 640x480 with 1 Axes>"
            ],
            "image/png": "[encoded data removed]"
          },
          "metadata": {}
        },
        {
          "output_type": "stream",
          "name": "stdout",
          "text": [
            "Epoch: 0/5 Iteration 2000 Loss:2.1234\n"
          ]
        },
        {
          "output_type": "display_data",
          "data": {
            "text/plain": [
              "<Figure size 640x480 with 1 Axes>"
            ],
            "image/png": "[encoded data removed]"
          },
          "metadata": {}
        },
        {
          "output_type": "stream",
          "name": "stdout",
          "text": [
            "Epoch: 0/5 Iteration 3000 Loss:1.229\n"
          ]
        },
        {
          "output_type": "display_data",
          "data": {
            "text/plain": [
              "<Figure size 640x480 with 1 Axes>"
            ],
            "image/png": "[encoded data removed]"
          },
          "metadata": {}
        }
      ]
    }
  ]
}